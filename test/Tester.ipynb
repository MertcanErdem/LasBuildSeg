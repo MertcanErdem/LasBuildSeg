{
 "cells": [
  {
   "cell_type": "code",
   "execution_count": 25,
   "id": "56d88e41-5268-4236-ba47-72d11e6f9830",
   "metadata": {},
   "outputs": [],
   "source": [
    "import numpy as np\n",
    "import geopandas as gpd\n",
    "\n",
    "def calc_iou(gdf_groundtruth, gdf_predict):\n",
    "    \"\"\"Calculates intersection over union (iou) score.\n",
    "\n",
    "    Args:\n",
    "      gdf_groundtruth: Groundtruth GeoDataFrame of polygons.\n",
    "      gdf_predict: Predicted GeoDataFrame of polygons.\n",
    "\n",
    "    Returns:\n",
    "      Intersection Over Union (IOU) Score.\n",
    "\n",
    "    \"\"\"\n",
    "    \n",
    "    intersect = gdf_groundtruth.dissolve().intersection(gdf_predict.dissolve()).area\n",
    "    union = gdf_groundtruth.dissolve().union(gdf_predict.dissolve()).area\n",
    "    iou = intersect / union\n",
    "    \n",
    "    return iou[0]\n",
    "\n",
    "def calc_datasets(groundtruth_file, predict_file):\n",
    "    \"\"\"Reads geojson files, and calculates IOU.\n",
    "\n",
    "    Args:\n",
    "      groundtruth_file: Geojson file for groundtruth.\n",
    "      predict_file: Geojson file for predictions.\n",
    "\n",
    "    Returns:\n",
    "      Intersection over union (IOU) score with punishment.\n",
    "    \"\"\"\n",
    "    \n",
    "    gdf_groundtruth = gpd.read_file(groundtruth_file)\n",
    "    gdf_predict = gpd.read_file(predict_file)\n",
    "    \n",
    "    # Validate the CRS\n",
    "    assert gdf_predict.crs==3857, (\n",
    "        f'All geometries must be in EPSG:3857 Coordinate Reference System.')\n",
    "    assert gdf_groundtruth.crs==3857, (\n",
    "        f'All geometries must be in EPSG:3857 Coordinate Reference System.')\n",
    "    \n",
    "    # Validate the geometry column\n",
    "    assert \"geometry\" in gdf_predict.columns, (\n",
    "        f'Missing geometry column.')\n",
    "    assert \"geometry\" in gdf_groundtruth.columns, (\n",
    "        f'Missing geometry column.')\n",
    "    \n",
    "    iou = calc_iou(gdf_groundtruth, gdf_predict)\n",
    "    # Punish if more polygon provided \n",
    "    if len(gdf_groundtruth)<len(gdf_predict):\n",
    "        iou = iou * (len(gdf_groundtruth)/len(gdf_predict))\n",
    "    \n",
    "    return iou\n",
    "    \n",
    "def evaluate(groundtruth_files, predict_files):\n",
    "    \"\"\"Calculates datasets for multiple files.\n",
    "\n",
    "    Args:\n",
    "      groundtruth_files: List of groundtruth files.\n",
    "      predict_files: List of prediction files. One file for each groundtruth.\n",
    "\n",
    "    Returns:\n",
    "      Intersection Over Union (IOU) Score.\n",
    "    \"\"\"\n",
    "    \n",
    "    # Check the number of files provided\n",
    "    assert len(groundtruth_files) == len(predict_files), (\n",
    "        f'Number of files are not matching.')\n",
    "    \n",
    "    results = []\n",
    "    \n",
    "    for i in range(len(groundtruth_files)):\n",
    "        iou = calc_datasets(groundtruth_files[i], predict_files[i])\n",
    "        results.append(iou)\n",
    "    \n",
    "    return np.mean(results)"
   ]
  },
  {
   "cell_type": "code",
   "execution_count": null,
   "id": "cf9c4770-8dfb-4902-abd4-dc0d8aed3519",
   "metadata": {},
   "outputs": [],
   "source": [
    "#10=>15=>28=>35=>\n",
    "#with the smalles dataset of 8 mb we get 15 seconds for dsm generation 10 seconds for dtm genreation while ndhm generation\n",
    "#and most of our algorithms give us instentenous outputs while when we add tri we get 8 secons of calcualtion time\n",
    "\n",
    "calc_datasets(\"USGS_LPC_IL_HicksDome_FluorsparDistrict_2019_D19_2339_5650_gt_buildings.geojson\",\"building2.geojson\")"
   ]
  },
  {
   "cell_type": "code",
   "execution_count": 26,
   "id": "fa87fd9a-b2fd-48a3-9c06-728ba8f400f5",
   "metadata": {},
   "outputs": [],
   "source": [
    "dataset=[\"USGS_LPC_IL_8County_2020_A20_1035_8430_gt_buildings.geojson\",\"USGS_LPC_IL_HicksDome_FluorsparDistrict_2019_D19_2339_5650_gt_buildings.geojson\",\"USGS_LPC_MI_16Co_Lapeer_2015_460530_LAS_2018_gt_buildings.geojson\",\"USGS_LPC_MI_16Co_Shiawassee_2015_235540_LAS_2018_gt_buildings.geojson\",\"USGS_LPC_MI_WayneCo_2017_382227_LAS_2018_gt_buildings.geojson\"]\n",
    "output_json=[\"building1.geojson\",\"building2.geojson\",\"building3.geojson\",\"building4.geojson\",\"building5.geojson\"]\n",
    "thresh_json=[\"1_img_thresh.geojson\",\"2_img_thresh.geojson\",\"3_img_thresh.geojson\",\"4_img_thresh.geojson\",\"5_img_thresh.geojson\"]\n",
    "open_json=[\"1_img_open.geojson\",\"2_img_open.geojson\",\"3_img_open.geojson\",\"4_img_open.geojson\",\"5_img_open.geojson\"]\n",
    "cont_json=[\"1_building_masknotri.geojson\",\"2_building_masknotri.geojson\",\"3_building_masknotri.geojson\",\"4_building_masknotri.geojson\",\"5_building_masknotri.geojson\",]\n",
    "tri_json=[\"1_building_mask.geojson\",\"2_building_mask.geojson\",\"3_building_mask.geojson\",\"4_building_mask.geojson\",\"5_building_mask.geojson\"]"
   ]
  },
  {
   "cell_type": "code",
   "execution_count": 39,
   "id": "24d11ae2-7d30-48ac-bf25-4e61d2187afb",
   "metadata": {},
   "outputs": [],
   "source": [
    "open1=calc_datasets(dataset[0],open_json[0])\n",
    "cont1=calc_datasets(dataset[0],cont_json[0])\n",
    "tri1=calc_datasets(dataset[0],tri_json[0])\n",
    "out1=calc_datasets(dataset[0],output_json[0])"
   ]
  },
  {
   "cell_type": "code",
   "execution_count": 40,
   "id": "4fa5169d-b102-41ce-880e-0f6be1d55891",
   "metadata": {},
   "outputs": [],
   "source": [
    "open2=calc_datasets(dataset[1],open_json[1])\n",
    "cont2=calc_datasets(dataset[1],cont_json[1])\n",
    "tri2=calc_datasets(dataset[1],tri_json[1])\n",
    "out2=calc_datasets(dataset[1],output_json[1])"
   ]
  },
  {
   "cell_type": "code",
   "execution_count": 41,
   "id": "e595d172-d1a6-4c2e-9a0a-d733fd79c788",
   "metadata": {},
   "outputs": [],
   "source": [
    "open3=calc_datasets(dataset[2],open_json[2])\n",
    "cont3=calc_datasets(dataset[2],cont_json[2])\n",
    "tri3=calc_datasets(dataset[2],tri_json[2])\n",
    "out3=calc_datasets(dataset[2],output_json[2])"
   ]
  },
  {
   "cell_type": "code",
   "execution_count": 42,
   "id": "9b14aa53-2220-4680-bb06-e62c9fa37372",
   "metadata": {},
   "outputs": [],
   "source": [
    "open4=calc_datasets(dataset[3],open_json[3])\n",
    "cont4=calc_datasets(dataset[3],cont_json[3])\n",
    "tri4=calc_datasets(dataset[3],tri_json[3])\n",
    "out4=calc_datasets(dataset[3],output_json[3])"
   ]
  },
  {
   "cell_type": "code",
   "execution_count": 43,
   "id": "6775ff59-5eaf-4262-8fcd-b4b278aa3246",
   "metadata": {},
   "outputs": [],
   "source": [
    "open5=calc_datasets(dataset[4],open_json[4])\n",
    "cont5=calc_datasets(dataset[4],cont_json[4])\n",
    "tri5=calc_datasets(dataset[4],tri_json[4])\n",
    "out5=calc_datasets(dataset[4],output_json[4])"
   ]
  },
  {
   "cell_type": "code",
   "execution_count": 44,
   "id": "a2c7700c-c6e7-469e-8825-ed6792ab1ae8",
   "metadata": {},
   "outputs": [],
   "source": [
    "import csv\n",
    "import numpy as np\n",
    "\n",
    "\n",
    "data = [\n",
    "    {\n",
    "        'open': open1,\n",
    "        'cont': cont1,\n",
    "        'tri': tri1,\n",
    "        'closed': out1,\n",
    "    },\n",
    "    {\n",
    "        'open': open2,\n",
    "        'cont': cont2,\n",
    "        'tri': tri2,\n",
    "        'closed': out2,\n",
    "    },\n",
    "    {\n",
    "        'open': open3,\n",
    "        'cont': cont3,\n",
    "        'tri': tri3,\n",
    "        'closed': out3,\n",
    "    },\n",
    "    {\n",
    "        'open': open4,\n",
    "        'cont': cont4,\n",
    "        'tri': tri4,\n",
    "        'closed': out4,\n",
    "    },\n",
    "    {\n",
    "        'open': open5,\n",
    "        'cont': cont5,\n",
    "        'tri': tri5,\n",
    "        'closed': out5,\n",
    "    },\n",
    "]\n",
    "\n",
    "with open('output.csv', 'w', newline='') as csvfile:\n",
    "    fieldnames = ['open', 'cont', 'tri', 'closed']\n",
    "    writer = csv.DictWriter(csvfile, fieldnames=fieldnames)\n",
    "    writer.writeheader()\n",
    "    for row in data:\n",
    "        writer.writerow(row)\n"
   ]
  },
  {
   "cell_type": "code",
   "execution_count": null,
   "id": "f146d9a1-74fa-4373-8c55-2a6abe1d0ece",
   "metadata": {},
   "outputs": [],
   "source": []
  },
  {
   "cell_type": "code",
   "execution_count": null,
   "id": "1abc0725-fd16-4c0d-8f46-d2a4851a60f1",
   "metadata": {},
   "outputs": [],
   "source": []
  },
  {
   "cell_type": "code",
   "execution_count": null,
   "id": "04aa62e4-4f08-4c75-aaff-50cf66b3ddfb",
   "metadata": {},
   "outputs": [],
   "source": []
  },
  {
   "cell_type": "code",
   "execution_count": null,
   "id": "2c6eb047-234f-43b3-93fb-111442ac7d13",
   "metadata": {},
   "outputs": [],
   "source": []
  },
  {
   "cell_type": "code",
   "execution_count": null,
   "id": "6fb27a5b-cea9-4029-bb93-5c819f717fed",
   "metadata": {},
   "outputs": [],
   "source": []
  },
  {
   "cell_type": "code",
   "execution_count": null,
   "id": "df9ff6ce-d3ad-4a53-89d4-1deb8d8eb550",
   "metadata": {},
   "outputs": [],
   "source": []
  },
  {
   "cell_type": "code",
   "execution_count": null,
   "id": "eaf725ae-f524-46e9-acd3-56f9648a4074",
   "metadata": {},
   "outputs": [],
   "source": []
  },
  {
   "cell_type": "code",
   "execution_count": null,
   "id": "7b1549e3-fbdd-47b9-ab88-8a319c517a07",
   "metadata": {},
   "outputs": [],
   "source": []
  },
  {
   "cell_type": "code",
   "execution_count": null,
   "id": "5a24484e-ca2d-4299-a44f-9a0f3d67706f",
   "metadata": {},
   "outputs": [],
   "source": []
  },
  {
   "cell_type": "code",
   "execution_count": null,
   "id": "98d1236d-a987-4678-8153-e4e7097cebf1",
   "metadata": {},
   "outputs": [],
   "source": []
  },
  {
   "cell_type": "code",
   "execution_count": null,
   "id": "d6d1d8f4-99bf-4886-8c3e-be316153da39",
   "metadata": {},
   "outputs": [],
   "source": []
  },
  {
   "cell_type": "code",
   "execution_count": null,
   "id": "17415bd7-6c16-47fe-81e5-171b9666efb9",
   "metadata": {},
   "outputs": [],
   "source": []
  },
  {
   "cell_type": "code",
   "execution_count": null,
   "id": "15b302e5-50f9-4a46-80fe-a4a1468bb34b",
   "metadata": {},
   "outputs": [],
   "source": []
  },
  {
   "cell_type": "code",
   "execution_count": null,
   "id": "865687c9-59ed-41b4-9a44-c078485e5f6c",
   "metadata": {},
   "outputs": [],
   "source": []
  },
  {
   "cell_type": "code",
   "execution_count": null,
   "id": "cfb80517-2019-4f30-b1d4-eb9829959b4a",
   "metadata": {},
   "outputs": [],
   "source": []
  },
  {
   "cell_type": "code",
   "execution_count": null,
   "id": "b373835b-a511-4250-98cb-21601573e1e8",
   "metadata": {},
   "outputs": [],
   "source": []
  }
 ],
 "metadata": {
  "kernelspec": {
   "display_name": "Python 3 (ipykernel)",
   "language": "python",
   "name": "python3"
  },
  "language_info": {
   "codemirror_mode": {
    "name": "ipython",
    "version": 3
   },
   "file_extension": ".py",
   "mimetype": "text/x-python",
   "name": "python",
   "nbconvert_exporter": "python",
   "pygments_lexer": "ipython3",
   "version": "3.8.16"
  }
 },
 "nbformat": 4,
 "nbformat_minor": 5
}
